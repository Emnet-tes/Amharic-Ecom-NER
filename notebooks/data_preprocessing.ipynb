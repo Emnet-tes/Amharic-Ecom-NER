{
 "cells": [
  {
   "cell_type": "code",
   "execution_count": 2,
   "id": "d0225c95",
   "metadata": {},
   "outputs": [
    {
     "name": "stdout",
     "output_type": "stream",
     "text": [
      "✅ Data loaded.\n",
      "Dataset shape: (35168, 6)\n",
      "Columns: ['Channel Title', 'Channel Username', 'ID', 'Message', 'Date', 'Media Path']\n",
      "\n",
      "📊 Data types:\n",
      "Channel Title       object\n",
      "Channel Username    object\n",
      "ID                   int64\n",
      "Message             object\n",
      "Date                object\n",
      "Media Path          object\n",
      "dtype: object\n"
     ]
    }
   ],
   "source": [
    "import re\n",
    "import pandas as pd\n",
    "\n",
    "# Load the dataset\n",
    "df = pd.read_csv(\"../data/dataset_telegram.csv\")\n",
    "print(\"✅ Data loaded.\")\n",
    "print(f\"Dataset shape: {df.shape}\")\n",
    "print(f\"Columns: {list(df.columns)}\")\n",
    "\n",
    "# Check data types and convert as needed\n",
    "print(\"\\n📊 Data types:\")\n",
    "print(df.dtypes)"
   ]
  },
  {
   "cell_type": "code",
   "execution_count": 3,
   "id": "6d6ac6c5",
   "metadata": {},
   "outputs": [
    {
     "name": "stdout",
     "output_type": "stream",
     "text": [
      "✅ Data types converted.\n",
      "\n",
      "📊 Updated data types:\n",
      "Channel Title                    object\n",
      "Channel Username                 object\n",
      "ID                                int64\n",
      "Message                          object\n",
      "Date                datetime64[ns, UTC]\n",
      "Media Path                       object\n",
      "dtype: object\n"
     ]
    }
   ],
   "source": [
    "# Convert data types\n",
    "df['Date'] = pd.to_datetime(df['Date'], errors='coerce')\n",
    "df['Message'] = df['Message'].astype(str)\n",
    "df['Channel Title'] = df['Channel Title'].astype(str)\n",
    "\n",
    "print(\"✅ Data types converted.\")\n",
    "print(\"\\n📊 Updated data types:\")\n",
    "print(df.dtypes)"
   ]
  },
  {
   "cell_type": "code",
   "execution_count": 4,
   "id": "2459715c",
   "metadata": {},
   "outputs": [
    {
     "name": "stdout",
     "output_type": "stream",
     "text": [
      "✅ Text cleaning completed.\n",
      "Dataset shape after cleaning: (19898, 7)\n",
      "\n",
      "📝 Sample cleaned messages:\n",
      "1. Original: 💥Miralux Hot plate\n",
      " ባለሁለት ምድጃ ስቶቭ\n",
      "\n",
      "      💯orginal\n",
      "\n",
      "⚡️ 2000 ዋት\n",
      "⚡️ ፊውዝ የተገጠመለት\n",
      "⚡️ ትልቅ ድስት መሸከም የሚችል\n",
      "⚡️...\n",
      "   Cleaned:  ባለሁለት ምድጃ ስቶቭ 2000 ዋት ፊውዝ የተገጠመለት ትልቅ ድስት መሸከም የሚችል አስተማማኝ ቴርሞስታት ባለ ፊውዝ ዋጋ፦ ትልቁ 2900ብር አድራሻ ቁ1 መገናኛ...\n",
      "\n",
      "2. Original: 💥7pcs glass water set\n",
      "\n",
      "✔️ አንድ ማራኪ ጆግና 6 መጠጫ ብርጭቆዎች\n",
      "✔️ የፈሳሽ መጠጥ ማቅረቢያ\n",
      "✔️ ከፍተኛ ሙቀት የሚቋቋም\n",
      "✔️ ኳሊቲ ወፍራም\n",
      "\n",
      "...\n",
      "   Cleaned:  7 አንድ ማራኪ ጆግና 6 መጠጫ ብርጭቆዎች የፈሳሽ መጠጥ ማቅረቢያ ከፍተኛ ሙቀት የሚቋቋም ኳሊቲ ወፍራም ዋጋ፦ 3400 ብር ውስን ፍሬ ነው የቀረው አድራሻ ቁ1...\n",
      "\n",
      "3. Original: 🎯 Universal water-saving dishwasher head\n",
      "\n",
      "🔰Increase water outlet pressure and rinse efficiently.\n",
      "🔰36...\n",
      "   Cleaned:  360 100 ዋጋ፦ 400 ብር ውስን ፍሬ ነው ያለው አድራሻ ቁ1 መገናኛ ታሜ ጋስ ህንፃ ጎን ስሪ ኤም ሲቲ ሞል ሁለተኛ ፎቅ ቢሮ ቁ 05ከ ሊፍቱ ፊት ለ ፊት ...\n",
      "\n"
     ]
    }
   ],
   "source": [
    "# Define text cleaning function\n",
    "def clean_text(text):\n",
    "    \"\"\"\n",
    "    Clean Amharic text by removing unwanted characters and normalizing\n",
    "    \"\"\"\n",
    "    if pd.isna(text) or text == 'nan':\n",
    "        return \"\"\n",
    "    \n",
    "    text = str(text)\n",
    "    # Remove non-Amharic punctuations but keep Amharic punctuations\n",
    "    text = re.sub(r'[^\\w\\s።፡፣፤፥፦፧፨]', '', text)\n",
    "    # Remove English characters (but keep numbers for now as they might be prices)\n",
    "    text = re.sub(r'[a-zA-Z]', '', text)\n",
    "    # Remove extra spaces\n",
    "    text = re.sub(r'\\s+', ' ', text)\n",
    "    return text.strip()\n",
    "\n",
    "# Apply text cleaning\n",
    "df['cleaned_text'] = df['Message'].apply(clean_text)\n",
    "\n",
    "# Remove empty or very short messages\n",
    "df = df[df['cleaned_text'].str.len() > 2]\n",
    "\n",
    "print(\"✅ Text cleaning completed.\")\n",
    "print(f\"Dataset shape after cleaning: {df.shape}\")\n",
    "\n",
    "# Show sample of cleaned text\n",
    "print(\"\\n📝 Sample cleaned messages:\")\n",
    "for i, (idx, row) in enumerate(df.head(3).iterrows()):\n",
    "    print(f\"{i+1}. Original: {row['Message'][:100]}...\")\n",
    "    print(f\"   Cleaned:  {row['cleaned_text'][:100]}...\")\n",
    "    print()"
   ]
  },
  {
   "cell_type": "code",
   "execution_count": 5,
   "id": "3a1d222a",
   "metadata": {},
   "outputs": [
    {
     "name": "stdout",
     "output_type": "stream",
     "text": [
      "✅ Cleaned data saved to '../data/telegram_messages_cleaned.csv'\n"
     ]
    }
   ],
   "source": [
    "# Save cleaned data\n",
    "df.to_csv(\"../data/telegram_messages_cleaned.csv\", index=False)\n",
    "print(\"✅ Cleaned data saved to '../data/telegram_messages_cleaned.csv'\")\n",
    "\n",
    "# Create data directory if it doesn't exist\n",
    "import os\n",
    "os.makedirs(\"../data\", exist_ok=True)"
   ]
  },
  {
   "cell_type": "code",
   "execution_count": 6,
   "id": "de9cac1d",
   "metadata": {},
   "outputs": [
    {
     "name": "stdout",
     "output_type": "stream",
     "text": [
      "✅ ETNLTK imported successfully\n",
      "✅ Amharic normalization completed using ETNLTK\n",
      "✅ Amharic normalization completed using ETNLTK\n",
      "✅ Tokenization process completed\n",
      "Final dataset shape: (19898, 8)\n",
      "\n",
      "📝 Sample tokenized messages:\n",
      "1. Cleaned:   ባለሁለት ምድጃ ስቶቭ 2000 ዋት ፊውዝ የተገጠመለት ትልቅ ድስት መሸከም የሚችል አስተማማኝ ቴርሞስታት ባለ ፊውዝ ዋጋ፦ ትልቁ...\n",
      "   Tokenized: ባለሁለት ምድጃ ስቶቭ 2000 ዋት ፊውዝ የተገጠመለት ትልቅ ድስት መሸከም የሚችል አስተማማኝ ቴርሞስታት ባለ ፊውዝ ዋጋ፦ ትልቁ...\n",
      "\n",
      "2. Cleaned:   7 አንድ ማራኪ ጆግና 6 መጠጫ ብርጭቆዎች የፈሳሽ መጠጥ ማቅረቢያ ከፍተኛ ሙቀት የሚቋቋም ኳሊቲ ወፍራም ዋጋ፦ 3400 ብር ውስ...\n",
      "   Tokenized: 7 አንድ ማራኪ ጆግና 6 መጠጫ ብርጭቆዎች የፈሳሽ መጠጥ ማቅረቢያ ከፍተኛ ሙቀት የሚቋቋም ኳሊቲ ወፍራም ዋጋ፦ 3400 ብር ውስ...\n",
      "\n",
      "3. Cleaned:   360 100 ዋጋ፦ 400 ብር ውስን ፍሬ ነው ያለው አድራሻ ቁ1 መገናኛ ታሜ ጋስ ህንፃ ጎን ስሪ ኤም ሲቲ ሞል ሁለተኛ ፎቅ ቢ...\n",
      "   Tokenized: 360 100 ዋጋ፦ 400 ብር ውስን ፍሬ ነው ያለው አድራሻ ቁ1 መገናኛ ታሜ ጋስ ህንፃ ጎን ስሪ ኤም ሲቲ ሞል ሁለተኛ ፎቅ ቢ...\n",
      "\n",
      "✅ Tokenization process completed\n",
      "Final dataset shape: (19898, 8)\n",
      "\n",
      "📝 Sample tokenized messages:\n",
      "1. Cleaned:   ባለሁለት ምድጃ ስቶቭ 2000 ዋት ፊውዝ የተገጠመለት ትልቅ ድስት መሸከም የሚችል አስተማማኝ ቴርሞስታት ባለ ፊውዝ ዋጋ፦ ትልቁ...\n",
      "   Tokenized: ባለሁለት ምድጃ ስቶቭ 2000 ዋት ፊውዝ የተገጠመለት ትልቅ ድስት መሸከም የሚችል አስተማማኝ ቴርሞስታት ባለ ፊውዝ ዋጋ፦ ትልቁ...\n",
      "\n",
      "2. Cleaned:   7 አንድ ማራኪ ጆግና 6 መጠጫ ብርጭቆዎች የፈሳሽ መጠጥ ማቅረቢያ ከፍተኛ ሙቀት የሚቋቋም ኳሊቲ ወፍራም ዋጋ፦ 3400 ብር ውስ...\n",
      "   Tokenized: 7 አንድ ማራኪ ጆግና 6 መጠጫ ብርጭቆዎች የፈሳሽ መጠጥ ማቅረቢያ ከፍተኛ ሙቀት የሚቋቋም ኳሊቲ ወፍራም ዋጋ፦ 3400 ብር ውስ...\n",
      "\n",
      "3. Cleaned:   360 100 ዋጋ፦ 400 ብር ውስን ፍሬ ነው ያለው አድራሻ ቁ1 መገናኛ ታሜ ጋስ ህንፃ ጎን ስሪ ኤም ሲቲ ሞል ሁለተኛ ፎቅ ቢ...\n",
      "   Tokenized: 360 100 ዋጋ፦ 400 ብር ውስን ፍሬ ነው ያለው አድራሻ ቁ1 መገናኛ ታሜ ጋስ ህንፃ ጎን ስሪ ኤም ሲቲ ሞል ሁለተኛ ፎቅ ቢ...\n",
      "\n"
     ]
    }
   ],
   "source": [
    "# Amharic tokenization and normalization\n",
    "try:\n",
    "    from etnltk.tokenize.am import word_tokenize\n",
    "    from etnltk.lang.am import normalize\n",
    "    \n",
    "    print(\"✅ ETNLTK imported successfully\")\n",
    "    \n",
    "    # Apply normalization\n",
    "    def normalize_amharic(text):\n",
    "        if pd.isna(text) or text == '' or text == 'nan':\n",
    "            return \"\"\n",
    "        try:\n",
    "            return normalize(str(text))\n",
    "        except Exception as e:\n",
    "            print(f\"Error normalizing text: {text[:50]}... Error: {e}\")\n",
    "            return str(text)\n",
    "    \n",
    "    df['tokenized_text'] = df['cleaned_text'].apply(normalize_amharic)\n",
    "    \n",
    "    print(\"✅ Amharic normalization completed using ETNLTK\")\n",
    "    \n",
    "except ImportError as e:\n",
    "    print(f\"⚠️  ETNLTK not available: {e}\")\n",
    "    print(\"Using basic tokenization fallback...\")\n",
    "    \n",
    "    # Fallback tokenization for Amharic\n",
    "    def basic_amharic_tokenize(text):\n",
    "        if pd.isna(text) or text == '' or text == 'nan':\n",
    "            return \"\"\n",
    "        \n",
    "        text = str(text)\n",
    "        # Basic Amharic word tokenization by splitting on spaces and punctuation\n",
    "        tokens = re.split(r'[\\s።፡፣፤፥፦፧፨]+', text)\n",
    "        # Remove empty tokens\n",
    "        tokens = [token.strip() for token in tokens if token.strip()]\n",
    "        return ' '.join(tokens)\n",
    "    \n",
    "    df['tokenized_text'] = df['cleaned_text'].apply(basic_amharic_tokenize)\n",
    "    print(\"✅ Basic tokenization completed\")\n",
    "\n",
    "# Clean up extra spaces\n",
    "df['tokenized_text'] = df['tokenized_text'].str.replace(r'\\s+', ' ', regex=True).str.strip()\n",
    "df['tokenized_text'] = df[\"tokenized_text\"].astype(str)\n",
    "\n",
    "print(f\"✅ Tokenization process completed\")\n",
    "print(f\"Final dataset shape: {df.shape}\")\n",
    "\n",
    "# Show tokenization results\n",
    "print(\"\\n📝 Sample tokenized messages:\")\n",
    "for i, (idx, row) in enumerate(df.head(3).iterrows()):\n",
    "    print(f\"{i+1}. Cleaned:   {row['cleaned_text'][:80]}...\")\n",
    "    print(f\"   Tokenized: {row['tokenized_text'][:80]}...\")\n",
    "    print()"
   ]
  },
  {
   "cell_type": "code",
   "execution_count": 7,
   "id": "cf956bd2",
   "metadata": {},
   "outputs": [
    {
     "name": "stdout",
     "output_type": "stream",
     "text": [
      "✅ Tokenized data saved to '../data/telegram_messages_tokenized.csv'\n",
      "✅ JSON data saved to '../data/telegram_data.json'\n",
      "\n",
      "📊 Processing Summary:\n",
      "- Original messages: 19898\n",
      "- Processed messages: 19898\n",
      "- Files created:\n",
      "  • telegram_messages_cleaned.csv\n",
      "  • telegram_messages_tokenized.csv\n",
      "  • telegram_data.json\n",
      "\n",
      "🎉 Data preprocessing completed successfully!\n",
      "✅ JSON data saved to '../data/telegram_data.json'\n",
      "\n",
      "📊 Processing Summary:\n",
      "- Original messages: 19898\n",
      "- Processed messages: 19898\n",
      "- Files created:\n",
      "  • telegram_messages_cleaned.csv\n",
      "  • telegram_messages_tokenized.csv\n",
      "  • telegram_data.json\n",
      "\n",
      "🎉 Data preprocessing completed successfully!\n"
     ]
    }
   ],
   "source": [
    "# Save tokenized data\n",
    "df.to_csv(\"../data/telegram_messages_tokenized.csv\", index=False)\n",
    "print(\"✅ Tokenized data saved to '../data/telegram_messages_tokenized.csv'\")\n",
    "\n",
    "# Create JSON output for further processing\n",
    "json_data = df[['Channel Title', 'Message', 'cleaned_text', 'tokenized_text']].rename(\n",
    "    columns={'cleaned_text': 'cleaned_message', 'tokenized_text': 'tokenized_message'}\n",
    ")\n",
    "\n",
    "json_data.to_json('../data/telegram_data.json', orient='records', force_ascii=False, lines=True)\n",
    "print(\"✅ JSON data saved to '../data/telegram_data.json'\")\n",
    "\n",
    "# Final summary\n",
    "print(f\"\\n📊 Processing Summary:\")\n",
    "print(f\"- Original messages: {len(df)}\")\n",
    "print(f\"- Processed messages: {len(df[df['tokenized_text'].str.len() > 0])}\")\n",
    "print(f\"- Files created:\")\n",
    "print(f\"  • telegram_messages_cleaned.csv\")\n",
    "print(f\"  • telegram_messages_tokenized.csv\") \n",
    "print(f\"  • telegram_data.json\")\n",
    "print(\"\\n🎉 Data preprocessing completed successfully!\")"
   ]
  }
 ],
 "metadata": {
  "kernelspec": {
   "display_name": "venv",
   "language": "python",
   "name": "python3"
  },
  "language_info": {
   "codemirror_mode": {
    "name": "ipython",
    "version": 3
   },
   "file_extension": ".py",
   "mimetype": "text/x-python",
   "name": "python",
   "nbconvert_exporter": "python",
   "pygments_lexer": "ipython3",
   "version": "3.12.3"
  }
 },
 "nbformat": 4,
 "nbformat_minor": 5
}
