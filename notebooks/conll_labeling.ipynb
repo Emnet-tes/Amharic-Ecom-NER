{
 "cells": [
  {
   "cell_type": "code",
   "execution_count": null,
   "id": "8f309767",
   "metadata": {},
   "outputs": [],
   "source": [
    "import pandas as pd\n",
    "\n",
    "# Load tokenized messages\n",
    "df = pd.read_csv(\"../data/dataset_telegram.csv\")\n",
    "\n",
    "#select 10 messages each from 3 different channelName\n",
    "df_1 = df[df['Channel Title'] == 'Sheger online-store'].head(10)\n",
    "df_2 = df[df['Channel Title'] == 'Leyueqa'].head(10)\n",
    "df_3 = df[df['Channel Title'] == 'sinayelj'].head(10)\n",
    "\n",
    "# Concatenate the selected messages\n",
    "df = pd.concat([df_1, df_2, df_3])\n"
   ]
  },
  {
   "cell_type": "code",
   "execution_count": 10,
   "id": "05c0a9b0",
   "metadata": {},
   "outputs": [
    {
     "name": "stdout",
     "output_type": "stream",
     "text": [
      "✅ CoNLL format template generated for manual labeling.\n"
     ]
    }
   ],
   "source": [
    "# Generate a labelable CoNLL format with default label \"O\"\n",
    "with open(\"conll_template.txt\", \"w\", encoding=\"utf-8\") as f:\n",
    "    for message in df['Message'].dropna():\n",
    "        tokens = str(message).split()\n",
    "        for token in tokens:\n",
    "            f.write(f\"{token} O\\n\")\n",
    "        f.write(\"\\n\")  # blank line between messages\n",
    "print(\"✅ CoNLL format template generated for manual labeling.\")"
   ]
  }
 ],
 "metadata": {
  "kernelspec": {
   "display_name": "venv",
   "language": "python",
   "name": "python3"
  },
  "language_info": {
   "codemirror_mode": {
    "name": "ipython",
    "version": 3
   },
   "file_extension": ".py",
   "mimetype": "text/x-python",
   "name": "python",
   "nbconvert_exporter": "python",
   "pygments_lexer": "ipython3",
   "version": "3.12.3"
  }
 },
 "nbformat": 4,
 "nbformat_minor": 5
}
